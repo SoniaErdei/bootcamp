{
 "cells": [
  {
   "cell_type": "code",
   "execution_count": 1,
   "metadata": {},
   "outputs": [
    {
     "name": "stdout",
     "output_type": "stream",
     "text": [
      "x_int = 10, y_int = 10\n",
      "type of x_int: <class 'int'>\n",
      "type of y_int: <class 'int'>\n",
      "x_initial_identity = 2415984667216\n",
      "y_initial_identity = 2415984667216\n",
      "are they the same? True\n",
      "x_int is y_int? True\n",
      "does x_int have the same value as y_int? True\n",
      "assigning new value to x\n",
      "x_int = 11, y_int = 10\n",
      "does x_int have the same value as y_int? False\n",
      "x_initial_identity; 2415984667216\n",
      "x_final_identity: 2415984667248\n"
     ]
    }
   ],
   "source": [
    "# assign x a value and then assign x to y\n",
    "x_int = 10\n",
    "y_int = x_int\n",
    "x_initial_identity = id(x_int)\n",
    "y_initial_identity = id(y_int)\n",
    "\n",
    "# let's have a look at the value and type\n",
    "print(\"x_int = {}, y_int = {}\".format(x_int, y_int))\n",
    "print(\"type of x_int: {}\".format(type(x_int)))\n",
    "print(\"type of y_int: {}\".format(type(y_int)))\n",
    "\n",
    "# let's check the identity\n",
    "print(\"x_initial_identity = {}\".format(x_initial_identity))\n",
    "print(\"y_initial_identity = {}\".format(y_initial_identity))\n",
    "print(\"are they the same? {}\".format(x_initial_identity == y_initial_identity))\n",
    "\n",
    "# let's see what is the relation between x and y\n",
    "print(\"x_int is y_int? {}\".format(x_int is y_int))\n",
    "print(\"does x_int have the same value as y_int? {}\".format(x_int == y_int))\n",
    "\n",
    "# what happens when we change the value of x?\n",
    "print(\"assigning new value to x\")\n",
    "x_int = 11\n",
    "x_final_identity = id(x_int)\n",
    "print(\"x_int = {}, y_int = {}\".format(x_int, y_int))\n",
    "print(\"does x_int have the same value as y_int? {}\".format(x_int == y_int))\n",
    "print(\"x_initial_identity; {}\\nx_final_identity: {}\".format(x_initial_identity, x_final_identity))"
   ]
  },
  {
   "cell_type": "code",
   "execution_count": 2,
   "metadata": {},
   "outputs": [
    {
     "name": "stdout",
     "output_type": "stream",
     "text": [
      "sys.float_info(max=1.7976931348623157e+308, max_exp=1024, max_10_exp=308, min=2.2250738585072014e-308, min_exp=-1021, min_10_exp=-307, dig=15, mant_dig=53, epsilon=2.220446049250313e-16, radix=2, rounds=1)\n"
     ]
    }
   ],
   "source": [
    "import sys\n",
    "print(sys.float_info)"
   ]
  },
  {
   "cell_type": "code",
   "execution_count": 20,
   "metadata": {},
   "outputs": [
    {
     "ename": "IndentationError",
     "evalue": "unindent does not match any outer indentation level (<tokenize>, line 6)",
     "output_type": "error",
     "traceback": [
      "\u001b[1;36m  File \u001b[1;32m<tokenize>:6\u001b[1;36m\u001b[0m\n\u001b[1;33m    x=1\u001b[0m\n\u001b[1;37m    ^\u001b[0m\n\u001b[1;31mIndentationError\u001b[0m\u001b[1;31m:\u001b[0m unindent does not match any outer indentation level\n"
     ]
    }
   ],
   "source": [
    "# let's try to divide by 0\n",
    "# we will use a try-except block\n",
    "\n",
    "try:\n",
    "    #x = 1 / 0\n",
    "    x=1\n",
    "except ZeroDivisionError:\n",
    "    print(\"you can't divide by zero!\")\n",
    "    raise ZeroDivisionError\n",
    "else:\n",
    "    print(\"totu este ok\")\n",
    "finally:\n",
    "    print(\"finally\")"
   ]
  },
  {
   "cell_type": "code",
   "execution_count": 21,
   "metadata": {},
   "outputs": [
    {
     "name": "stdout",
     "output_type": "stream",
     "text": [
      "2\n",
      "2\n",
      "3\n",
      "result: 1.4; integer part: 1.0\n"
     ]
    }
   ],
   "source": [
    "import math\n",
    "# let's try an integer division - when the result is always an integer\n",
    "# there are several ways to do this\n",
    "\n",
    "x = 2.8\n",
    "print(int(x))\n",
    "print(math.floor(x))\n",
    "print(math.ceil(x))\n",
    "print(\"result: {}; integer part: {}\".format((x / 2), (x // 2)))"
   ]
  },
  {
   "cell_type": "code",
   "execution_count": 22,
   "metadata": {},
   "outputs": [
    {
     "name": "stdout",
     "output_type": "stream",
     "text": [
      "1\n",
      "7.839999999999999\n"
     ]
    }
   ],
   "source": [
    "# powers of x\n",
    "print(0**0)\n",
    "print(x**2)"
   ]
  },
  {
   "cell_type": "code",
   "execution_count": 23,
   "metadata": {},
   "outputs": [
    {
     "name": "stdout",
     "output_type": "stream",
     "text": [
      "<class 'int'>\n",
      "<class 'float'>\n"
     ]
    }
   ],
   "source": [
    "# type default conversion\n",
    "print(type(2*2))\n",
    "print(type(2*2.2))"
   ]
  },
  {
   "cell_type": "code",
   "execution_count": 24,
   "metadata": {},
   "outputs": [
    {
     "name": "stdout",
     "output_type": "stream",
     "text": [
      "Peter Pan is a terrible boxer.\n",
      "Whenever he throws a punch, it Neverlands\n",
      "\n",
      "I was wondering why the frisbee kept getting bigger and bigger.\n",
      "But then it hit me.\n",
      "                Ba-dum tss.\n",
      "\n"
     ]
    }
   ],
   "source": [
    "one_liner = \"Peter Pan is a terrible boxer.\\nWhenever he throws a punch, it Neverlands\"\n",
    "print(one_liner)\n",
    "\n",
    "multi_liner = \"\"\"\n",
    "I was wondering why the frisbee kept getting bigger and bigger.\n",
    "But then it hit me.\n",
    "                Ba-dum tss.\n",
    "\"\"\"\n",
    "print(multi_liner)"
   ]
  },
  {
   "cell_type": "code",
   "execution_count": 28,
   "metadata": {},
   "outputs": [
    {
     "name": "stdout",
     "output_type": "stream",
     "text": [
      "Ellipsis\n"
     ]
    }
   ],
   "source": [
    "# get the last word of that one-liner\n",
    "\n",
    "# hint: look for the last space position\n",
    "last_space_at = ...\n",
    "\n",
    "if last_space_at != -1:\n",
    "    # if there is a last space, get to the next character - that's where the last word starts\n",
    "    last_word_starts_at = ...\n",
    "    last_word = ...\n",
    "    print(last_word)\n",
    "# but what of there is no space in this one_liner??\n",
    "else:\n",
    "    # what would that mean?\n",
    "    print(...)\n",
    "\n",
    "# what if this one-liner was empty?\n",
    "one_liner = \"\""
   ]
  },
  {
   "cell_type": "code",
   "execution_count": 38,
   "metadata": {},
   "outputs": [
    {
     "data": {
      "text/plain": [
       "['Neverlands']"
      ]
     },
     "execution_count": 38,
     "metadata": {},
     "output_type": "execute_result"
    }
   ],
   "source": [
    "one_liner = \"Peter Pan is a terrible boxer.\\nWhenever he throws a punch, it Neverlands\"\n",
    "one_liner.split(\" \")[-1:]"
   ]
  },
  {
   "cell_type": "code",
   "execution_count": 41,
   "metadata": {},
   "outputs": [
    {
     "name": "stdout",
     "output_type": "stream",
     "text": [
      "\n",
      "SELECT * FROM my_table WHERE date >= '2022-07-01 20:22:07';\n",
      "\n"
     ]
    }
   ],
   "source": [
    "# replace the wildcard in the string with a value\n",
    "statement = \"\"\"\n",
    "SELECT * FROM my_table WHERE date >= $$start_date$$;\n",
    "\"\"\"\n",
    "start_date = \"'2022-07-01 20:22:07'\"\n",
    "replaced_statement = statement.replace(\"$$start_date$$\",start_date)\n",
    "print(replaced_statement)"
   ]
  },
  {
   "cell_type": "code",
   "execution_count": null,
   "metadata": {},
   "outputs": [],
   "source": [
    "# split the following string based on the comma\n",
    "s = \"\"\"\n",
    "This is a string that needs to be split,\n",
    "based in the comma character,\n",
    "so it should result in three strings.\n",
    "\"\"\"\n",
    "\n",
    "split_strings = ...\n",
    "print(split_strings)"
   ]
  },
  {
   "cell_type": "code",
   "execution_count": 45,
   "metadata": {},
   "outputs": [
    {
     "name": "stdout",
     "output_type": "stream",
     "text": [
      "0\n",
      "x evaluated to False\n"
     ]
    }
   ],
   "source": [
    "# an empty (None) variable evaluates to False\n",
    "x = int()\n",
    "print(x)\n",
    "if not x:\n",
    "    print('x evaluated to False')\n",
    "\n",
    "# what does 0 evaluate to?\n",
    "\n",
    "# what does 1 evaluate to?\n",
    "\n",
    "# what does a random string evaluate to?\n",
    "\n",
    "# what does an empty string evaluate to?"
   ]
  }
 ],
 "metadata": {
  "kernelspec": {
   "display_name": "Python 3.9.12 ('base')",
   "language": "python",
   "name": "python3"
  },
  "language_info": {
   "codemirror_mode": {
    "name": "ipython",
    "version": 3
   },
   "file_extension": ".py",
   "mimetype": "text/x-python",
   "name": "python",
   "nbconvert_exporter": "python",
   "pygments_lexer": "ipython3",
   "version": "3.9.12"
  },
  "orig_nbformat": 4,
  "vscode": {
   "interpreter": {
    "hash": "d31b83e9610685068a0fe73b54051d44dc1110027bef1c52e64b671e72faac45"
   }
  }
 },
 "nbformat": 4,
 "nbformat_minor": 2
}
